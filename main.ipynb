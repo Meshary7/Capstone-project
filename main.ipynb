{
  "nbformat": 4,
  "nbformat_minor": 0,
  "metadata": {
    "colab": {
      "provenance": [],
      "include_colab_link": true
    },
    "kernelspec": {
      "name": "python3",
      "display_name": "Python 3"
    },
    "language_info": {
      "name": "python"
    }
  },
  "cells": [
    {
      "cell_type": "markdown",
      "metadata": {
        "id": "view-in-github",
        "colab_type": "text"
      },
      "source": [
        "<a href=\"https://colab.research.google.com/github/ThamerMalkix0/Capstone-project/blob/main/main.ipynb\" target=\"_parent\"><img src=\"https://colab.research.google.com/assets/colab-badge.svg\" alt=\"Open In Colab\"/></a>"
      ]
    },
    {
      "cell_type": "code",
      "execution_count": null,
      "metadata": {
        "id": "CFdNv_PLE--H"
      },
      "outputs": [],
      "source": [
        "import pandas\n",
        "import cv2\n",
        "import tensorflow as tf\n",
        "import os"
      ]
    },
    {
      "cell_type": "code",
      "source": [
        "def recordAndExtract(camera_index=0, output_folder='captured_images')\n",
        "# capturing the camera device\n",
        "  cap = cv2.VideoCapture(camera_index)\n",
        "\n",
        "  # Create the output folder if it doesn't exist\n",
        "  os.makedirs(output_folder, exist_ok=True)\n",
        "  count=0\n",
        "\n",
        "  while True:\n",
        "        # Read a frame from the camera\n",
        "        ret, frame = cap.read()\n",
        "\n",
        "        # Display the frame\n",
        "        cv2.imshow('Live Recording', frame)\n",
        "\n",
        "        # Save the frame as an image\n",
        "        image_filename = f\"{output_folder}/image_{count:04d}.png\"\n",
        "        cv2.imwrite(image_filename, frame)\n",
        "        print(f\"Captured image: {image_filename}\")\n",
        "        count++\n",
        "\n",
        "        # Break the loop if 'q' key is pressed\n",
        "        if cv2.waitKey(5000) & 0xFF == ord('q'):\n",
        "            break\n",
        "\n",
        "    # Release the video capture object and close the OpenCV window\n",
        "  cap.release()\n",
        "  cv2.destroyAllWindows()"
      ],
      "metadata": {
        "id": "lEMZQcAsMKHj"
      },
      "execution_count": null,
      "outputs": []
    }
  ]
}